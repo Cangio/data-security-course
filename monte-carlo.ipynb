{
 "cells": [
  {
   "cell_type": "markdown",
   "id": "7566e9aa-7b34-4c53-bf10-b98e097e049d",
   "metadata": {},
   "source": [
    "# **Monte Carlo Simulation**"
   ]
  },
  {
   "cell_type": "markdown",
   "id": "2a93ac11-e30e-47eb-98d4-cf11bba57107",
   "metadata": {},
   "source": [
    "## Implements a Monte Carlo Simulation to estimate value of pi"
   ]
  },
  {
   "cell_type": "code",
   "execution_count": 1,
   "id": "82c5828d-10cb-4320-b9a8-73b772a0257f",
   "metadata": {},
   "outputs": [],
   "source": [
    "import matplotlib.pyplot as plt\n",
    "import numpy as np\n",
    "from itertools import islice\n",
    "from functools import reduce\n",
    "from operator import xor\n",
    "\n",
    "import sys, os\n",
    "sys.path.append(os.path.abspath(\"../\"))\n",
    "from Cangini import RC4\n",
    "from Cangini import StreamCipher, A5_1\n",
    "\n",
    "from Cryptodome.Cipher import AES"
   ]
  },
  {
   "cell_type": "code",
   "execution_count": 2,
   "id": "78b486de-480d-42d5-8e11-0f13f45a150e",
   "metadata": {},
   "outputs": [
    {
     "name": "stdout",
     "output_type": "stream",
     "text": [
      "170\n"
     ]
    }
   ],
   "source": [
    "key = b'05289604D4C78EEA'\n",
    "rand_byte = RC4(key, drop=3072)\n",
    "\n",
    "print(int(next(rand_byte)))"
   ]
  },
  {
   "cell_type": "code",
   "execution_count": 3,
   "id": "59c42a9a-5d58-4798-a9dc-8d2c0e8e536c",
   "metadata": {},
   "outputs": [
    {
     "name": "stdout",
     "output_type": "stream",
     "text": [
      "Pi estimation: 3.124000\n"
     ]
    }
   ],
   "source": [
    "tot_points = 1000\n",
    "int_points = 0\n",
    "\n",
    "for it in range(tot_points):\n",
    "    x = int(next(rand_byte)) / 256.0\n",
    "    y = int(next(rand_byte)) / 256.0\n",
    "    \n",
    "    if np.sqrt(x**2 + y**2) <= 1:\n",
    "        int_points += 1\n",
    "\n",
    "pi = 4 * int_points / tot_points\n",
    "print(f'Pi estimation: {pi:f}')"
   ]
  },
  {
   "cell_type": "markdown",
   "id": "928329bc-cd1d-41b4-9e43-535c26b79852",
   "metadata": {},
   "source": [
    "## Diffusion of AES with Monte Carlo"
   ]
  },
  {
   "cell_type": "code",
   "execution_count": 2,
   "id": "3fa3072a-1ddd-4c53-a161-da241d2666d3",
   "metadata": {},
   "outputs": [],
   "source": [
    "def print_bin(msg):\n",
    "    '''Print binary sequence from byte string'''\n",
    "    print(''.join(f'{ch:b}' for ch in msg))"
   ]
  },
  {
   "cell_type": "code",
   "execution_count": 3,
   "id": "453d7157-43a9-4372-ab80-24d20ac64953",
   "metadata": {},
   "outputs": [
    {
     "name": "stdout",
     "output_type": "stream",
     "text": [
      "b'0123456765432100'\n",
      "1001100001110100011011011111101011010111111100111011010101010011111100110100000011011000010110010111101110010110\n",
      "b'0123456765432100'\n"
     ]
    }
   ],
   "source": [
    "message = b'0123456765432100'\n",
    "key = b'0123456701234567'\n",
    "alice = AES.new(key, AES.MODE_ECB)\n",
    "bob = AES.new(key, AES.MODE_ECB)\n",
    "\n",
    "#plainA = message.encode('utf-8')\n",
    "ciphert = alice.encrypt(message)\n",
    "plain = bob.decrypt(ciphert)\n",
    "\n",
    "print(message)\n",
    "print_bin(ciphert)\n",
    "print(plain)"
   ]
  },
  {
   "cell_type": "code",
   "execution_count": 8,
   "id": "65c036ce-bb72-46e8-b3ed-b345e42496d3",
   "metadata": {},
   "outputs": [],
   "source": [
    "def find_diff(str1, str2):\n",
    "    '''Find # of bits that differs from one sequence to another'''\n",
    "    s_str1 = ''.join(f'{ch:b}' for ch in str1)\n",
    "    s_str2 = ''.join(f'{ch:b}' for ch in str2)\n",
    "    \n",
    "    diff = 0\n",
    "    for bi1, bi2 in zip(s_str1, s_str2):\n",
    "        if bi1 != bi2:\n",
    "            diff += 1\n",
    "    return diff"
   ]
  },
  {
   "cell_type": "code",
   "execution_count": 7,
   "id": "ed52934d-8b74-4989-8c52-5c5d6ad4287a",
   "metadata": {},
   "outputs": [
    {
     "data": {
      "text/plain": [
       "2"
      ]
     },
     "execution_count": 7,
     "metadata": {},
     "output_type": "execute_result"
    }
   ],
   "source": [
    "# Check function implementation\n",
    "find_diff(b'10', b'01')"
   ]
  },
  {
   "cell_type": "markdown",
   "id": "b99bb19e-0ab2-4360-a3d7-0a289939ed4f",
   "metadata": {},
   "source": [
    "### Average diff implementation"
   ]
  },
  {
   "cell_type": "code",
   "execution_count": 6,
   "id": "db4a6132-01a2-4b9e-a33a-ccadf128a064",
   "metadata": {},
   "outputs": [],
   "source": [
    "tot_iters = 1000\n",
    "\n",
    "key = b'05289604D4C78EEA'\n",
    "rand_byte = RC4(key, drop=3072)"
   ]
  },
  {
   "cell_type": "markdown",
   "id": "7ba2e20a-43d6-4eae-978a-b8daebf2bd20",
   "metadata": {},
   "source": [
    "Generate random 128-bit key"
   ]
  },
  {
   "cell_type": "code",
   "execution_count": 37,
   "id": "324f8c59-8a7f-4a99-9540-3916d02dd313",
   "metadata": {},
   "outputs": [
    {
     "name": "stdout",
     "output_type": "stream",
     "text": [
      "bytearray(b';\\x07\\xcc\\xe9\\xc6\\x0bm8\\xab\\x8bc\\xf9\\x85\\xe3\\x8d\\xc9')\n",
      "b'\\xcc'\n"
     ]
    }
   ],
   "source": [
    "key = bytearray(b'')\n",
    "for _ in range(16):\n",
    "    #key.append(next(rand_byte).to_bytes(1, 'big'))\n",
    "    key += next(rand_byte).to_bytes(1, 'big')\n",
    "\n",
    "print(key)\n",
    "print(bytes([key[2]]))"
   ]
  },
  {
   "cell_type": "code",
   "execution_count": 4,
   "id": "d7c6d608-4264-4536-a927-c067dcb181d9",
   "metadata": {},
   "outputs": [],
   "source": [
    "def gen_random_128bits(byte_generator):\n",
    "    key = bytearray(b'')\n",
    "    for _ in range(16):\n",
    "        #key.append(next(rand_byte).to_bytes(1, 'big'))\n",
    "        key += next(byte_generator).to_bytes(1, 'big')\n",
    "    return key"
   ]
  },
  {
   "cell_type": "code",
   "execution_count": 10,
   "id": "797d951b-9fa6-48af-a9c2-a76c89df07aa",
   "metadata": {},
   "outputs": [
    {
     "name": "stdout",
     "output_type": "stream",
     "text": [
      "Average diff bits: 52.9341\n"
     ]
    },
    {
     "data": {
      "text/plain": [
       "(array([  25.,  228.,  758., 1779., 2568., 2949., 1222.,  375.,   79.,\n",
       "          17.]),\n",
       " array([33. , 37.2, 41.4, 45.6, 49.8, 54. , 58.2, 62.4, 66.6, 70.8, 75. ]),\n",
       " <BarContainer object of 10 artists>)"
      ]
     },
     "execution_count": 10,
     "metadata": {},
     "output_type": "execute_result"
    },
    {
     "data": {
      "image/png": "[encoded data removed]",
      "text/plain": [
       "<Figure size 432x288 with 1 Axes>"
      ]
     },
     "metadata": {
      "needs_background": "light"
     },
     "output_type": "display_data"
    }
   ],
   "source": [
    "diff_bits = 0\n",
    "tot_points = 10000\n",
    "dist = []\n",
    "\n",
    "for it in range(tot_points):\n",
    "    key = gen_random_128bits(rand_byte)\n",
    "    ciph = AES.new(key, AES.MODE_ECB)\n",
    "    \n",
    "    plain1 = bytes(gen_random_128bits(rand_byte))\n",
    "    byte_to_change = next(rand_byte) % 16\n",
    "    plain2 = bytearray(b'')\n",
    "    \n",
    "    for it, kk in zip(range(16), plain1):\n",
    "        plain2 += bytes([plain1[it]])\n",
    "        \n",
    "        if it == byte_to_change:\n",
    "            plain2[it] = plain1[it] ^ (1<<(next(rand_byte) % 8))\n",
    "    \n",
    "    cipher_t1 = ciph.encrypt(plain1)\n",
    "    cipher_t2 = ciph.encrypt(plain2)\n",
    "    \n",
    "    dd = find_diff(cipher_t1, cipher_t2)\n",
    "    dist.append(dd)\n",
    "    diff_bits += dd\n",
    "\n",
    "average = diff_bits / tot_points\n",
    "print(f'Average diff bits: {average}')\n",
    "\n",
    "plt.hist(dist)"
   ]
  },
  {
   "cell_type": "code",
   "execution_count": 14,
   "id": "09aaa1e0-fb80-4c57-8e63-34d155288884",
   "metadata": {},
   "outputs": [
    {
     "name": "stdout",
     "output_type": "stream",
     "text": [
      "Average diff bits: 52.878\n"
     ]
    },
    {
     "data": {
      "text/plain": [
       "(array([  19.,  141.,  547., 1529., 2457., 2639., 1740.,  723.,  177.,\n",
       "          28.]),\n",
       " array([33. , 36.9, 40.8, 44.7, 48.6, 52.5, 56.4, 60.3, 64.2, 68.1, 72. ]),\n",
       " <BarContainer object of 10 artists>)"
      ]
     },
     "execution_count": 14,
     "metadata": {},
     "output_type": "execute_result"
    },
    {
     "data": {
      "image/png": "[encoded data removed]",
      "text/plain": [
       "<Figure size 432x288 with 1 Axes>"
      ]
     },
     "metadata": {
      "needs_background": "light"
     },
     "output_type": "display_data"
    }
   ],
   "source": [
    "diff_bits = 0\n",
    "tot_points = 10000\n",
    "dist = []\n",
    "\n",
    "for it in range(tot_points):\n",
    "    plain = gen_random_128bits(rand_byte)\n",
    "    \n",
    "    key1 = bytes(gen_random_128bits(rand_byte))\n",
    "    byte_to_change = next(rand_byte) % 16\n",
    "    key2 = bytearray(b'')\n",
    "    \n",
    "    for it, kk in zip(range(16), key1):\n",
    "        key2 += bytes([key1[it]])\n",
    "        \n",
    "        if it == byte_to_change:\n",
    "            key2[it] = key1[it] ^ (1<<(next(rand_byte) % 8))\n",
    "    \n",
    "    ciph1 = AES.new(key1, AES.MODE_CBC)\n",
    "    ciph2 = AES.new(key2, AES.MODE_CBC)\n",
    "    \n",
    "    cipher_t1 = ciph1.encrypt(plain)\n",
    "    cipher_t2 = ciph2.encrypt(plain)\n",
    "    \n",
    "    dd = find_diff(cipher_t1, cipher_t2)\n",
    "    dist.append(dd)\n",
    "    diff_bits += dd\n",
    "\n",
    "average = diff_bits / tot_points\n",
    "print(f'Average diff bits: {average}')\n",
    "\n",
    "plt.hist(dist)"
   ]
  },
  {
   "cell_type": "code",
   "execution_count": 12,
   "id": "64dfa3cc-64fb-450b-99d3-fd3f0e3727d6",
   "metadata": {},
   "outputs": [
    {
     "data": {
      "text/plain": [
       "(array([1005.,  958., 1023.,  945., 1001.,  994., 1035.,  980., 1040.,\n",
       "        1019.]),\n",
       " array([  0. ,  25.5,  51. ,  76.5, 102. , 127.5, 153. , 178.5, 204. ,\n",
       "        229.5, 255. ]),\n",
       " <BarContainer object of 10 artists>)"
      ]
     },
     "execution_count": 12,
     "metadata": {},
     "output_type": "execute_result"
    },
    {
     "data": {
      "image/png": "[encoded data removed]",
      "text/plain": [
       "<Figure size 432x288 with 1 Axes>"
      ]
     },
     "metadata": {
      "needs_background": "light"
     },
     "output_type": "display_data"
    }
   ],
   "source": [
    "nums = []\n",
    "for it in range(10000):\n",
    "    nums.append(next(rand_byte))\n",
    "    \n",
    "plt.hist(nums)"
   ]
  },
  {
   "cell_type": "code",
   "execution_count": null,
   "id": "82fa3751-dcca-4ab5-b1f4-1cd993f12c46",
   "metadata": {},
   "outputs": [],
   "source": []
  }
 ],
 "metadata": {
  "kernelspec": {
   "display_name": "Python 3",
   "language": "python",
   "name": "python3"
  },
  "language_info": {
   "codemirror_mode": {
    "name": "ipython",
    "version": 3
   },
   "file_extension": ".py",
   "mimetype": "text/x-python",
   "name": "python",
   "nbconvert_exporter": "python",
   "pygments_lexer": "ipython3",
   "version": "3.9.5"
  }
 },
 "nbformat": 4,
 "nbformat_minor": 5
}
