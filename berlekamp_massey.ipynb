{
 "cells": [
  {
   "cell_type": "markdown",
   "id": "06701146-9746-47a1-9bfd-48f60fc92f03",
   "metadata": {
    "heading_collapsed": "false"
   },
   "source": [
    "# **Berlekamp-Massey Algorithm**"
   ]
  },
  {
   "cell_type": "markdown",
   "id": "928cc3e2-ba06-4313-ab9e-ce7756db7542",
   "metadata": {},
   "source": [
    "## Generator implementation"
   ]
  },
  {
   "cell_type": "code",
   "execution_count": 1,
   "id": "89abb658-0c13-47b9-928d-e2de38ab9d01",
   "metadata": {},
   "outputs": [],
   "source": [
    "def print_poly(poly):\n",
    "    poly = [i for i, b in enumerate(f'{poly:b}'[::-1]) if bool(int(b))]\n",
    "    poly = ' + '.join([\n",
    "        (f'x^{d}' if d > 1 else ('x' isf d==1 else '1')) \n",
    "        for d in poly[::-1]\n",
    "    ])\n",
    "    print(poly)"
   ]
  },
  {
   "cell_type": "code",
   "execution_count": 2,
   "id": "d43ad67e-e430-41d6-9fc9-f2d57681be85",
   "metadata": {},
   "outputs": [
    {
     "name": "stdout",
     "output_type": "stream",
     "text": [
      "x^3 + x^2 + 1\n"
     ]
    }
   ],
   "source": [
    "print_poly(0b1101)"
   ]
  },
  {
   "cell_type": "code",
   "execution_count": 2,
   "id": "a53d2df7-1ae2-4a71-92e4-58faafc71079",
   "metadata": {},
   "outputs": [],
   "source": [
    "def berlekamp_massey(bits, debug=False):\n",
    "    # bits -> b = [b0, b1, ... bN]\n",
    "    b_len = len(bits)\n",
    "    bits = int(''.join(f'{i:b}' for i in bits[::-1]), 2)\n",
    "    \n",
    "    P = 1\n",
    "    m = 0\n",
    "    Q = 1\n",
    "    r = 1\n",
    "    \n",
    "    if debug:\n",
    "        print(f' t | b | d | m |    P')\n",
    "        print(f'-------------------------')\n",
    "    \n",
    "    for t in range(b_len):\n",
    "        d = 0\n",
    "        for j in range(m+1):\n",
    "            d += ((P>>j) & 1) & ((bits>>(t-j)) & 1)\n",
    "        d = d % 2\n",
    "        \n",
    "        if d == 1:\n",
    "            if 2*m <= t:\n",
    "                P, Q = P^(Q<<r), P\n",
    "                \n",
    "                m = t + 1 - m\n",
    "                r = 0\n",
    "            else:\n",
    "                P = P^(Q<<r)\n",
    "        \n",
    "        if debug:\n",
    "            print(f' {t} | {(bits>>t) & 1} | {d} | {m} |  {P:05b}')\n",
    "        \n",
    "        r += 1\n",
    "        \n",
    "    poly = [i for i, b in enumerate(f'{P:b}'[::-1]) if bool(int(b))]\n",
    "    return poly"
   ]
  },
  {
   "cell_type": "code",
   "execution_count": 4,
   "id": "d6a70a14-ff08-4362-8b96-8c0ed53bc873",
   "metadata": {},
   "outputs": [
    {
     "name": "stdout",
     "output_type": "stream",
     "text": [
      " t | b | d | m |    P\n",
      "-------------------------\n",
      " 0 | 1 | 1 | 1 |  00011\n",
      " 1 | 0 | 1 | 1 |  00001\n",
      " 2 | 1 | 1 | 2 |  00101\n",
      " 3 | 0 | 0 | 2 |  00101\n",
      " 4 | 0 | 1 | 3 |  00001\n",
      " 5 | 1 | 1 | 3 |  01011\n",
      " 6 | 1 | 0 | 3 |  01011\n",
      " 7 | 1 | 0 | 3 |  01011\n"
     ]
    },
    {
     "data": {
      "text/plain": [
       "[0, 1, 3]"
      ]
     },
     "execution_count": 4,
     "metadata": {},
     "output_type": "execute_result"
    }
   ],
   "source": [
    "berlekamp_massey([1, 0, 1, 0, 0, 1, 1, 1], True)"
   ]
  },
  {
   "cell_type": "markdown",
   "id": "7301752a-73fd-4961-9c30-f82da45bc8cb",
   "metadata": {},
   "source": [
    "## Streaming Implementation"
   ]
  },
  {
   "cell_type": "code",
   "execution_count": 18,
   "id": "3ff03054-ad23-49cd-a65d-de6ee26134be",
   "metadata": {},
   "outputs": [],
   "source": [
    "class BerlekampMassey():\n",
    "    def __init__(self):\n",
    "        self._bits = 0b0\n",
    "        \n",
    "        self._P = 1\n",
    "        self._m = 0\n",
    "        self._Q = 1\n",
    "        self._r = 1\n",
    "        self._t = 0\n",
    "    \n",
    "    def __call__(self, bit):\n",
    "        self._bits = (self._bits<<1) | int(bit)\n",
    "        \n",
    "        d = 0\n",
    "        for j in range(self._m+1):\n",
    "            d += ((self._P>>j) & 1) & ((self._bits>>(j)) & 1)\n",
    "        d = d % 2\n",
    "        \n",
    "        if d == 1:\n",
    "            if 2*self._m <= self._t:\n",
    "                self._P, self._Q = self._P^(self._Q<<self._r), self._P\n",
    "                \n",
    "                self._m = self._t + 1 - self._m\n",
    "                self._r = 0\n",
    "                self._bits &= (1<<self._m) - 1\n",
    "            else:\n",
    "                self._P = self._P^(self._Q<<self._r)\n",
    "        \n",
    "        self._r += 1\n",
    "        self._t += 1\n",
    "        return self._P"
   ]
  },
  {
   "cell_type": "code",
   "execution_count": 8,
   "id": "705f5e86-f590-4ce8-9b1f-81273063ccee",
   "metadata": {},
   "outputs": [
    {
     "name": "stdout",
     "output_type": "stream",
     "text": [
      "0b11\n",
      "0b1\n",
      "0b1\n",
      "0b1001\n",
      "0b1001\n",
      "0b1001\n",
      "0b1\n",
      "0b1\n"
     ]
    }
   ],
   "source": [
    "berlekamp_massey = BerlekampMassey()\n",
    "\n",
    "bit_stream = [1, 0, 1, 0, 0, 1, 1, 1]\n",
    "\n",
    "for bit in bit_stream:\n",
    "    poly = berlekamp_massey(bit)\n",
    "    print(bin(poly))"
   ]
  },
  {
   "cell_type": "markdown",
   "id": "13cae2f0-04ef-4ee1-80f4-e4370bb4b599",
   "metadata": {},
   "source": [
    "## Check algorithm with LFSR implementation"
   ]
  },
  {
   "cell_type": "code",
   "execution_count": 13,
   "id": "e3068b9d-3b28-40b7-bf0d-7a921c063bd4",
   "metadata": {},
   "outputs": [],
   "source": [
    "import sys, os\n",
    "sys.path.append(os.path.abspath(\"../\"))\n",
    "from Cangini import LFSR"
   ]
  },
  {
   "cell_type": "code",
   "execution_count": 19,
   "id": "a052bc43-d8ca-4fd6-9c37-117e027c3010",
   "metadata": {},
   "outputs": [
    {
     "name": "stdout",
     "output_type": "stream",
     "text": [
      "x^3 + x + 1\n"
     ]
    }
   ],
   "source": [
    "lfsr = LFSR([3, 1, 0])\n",
    "berlekamp_massey = BerlekampMassey()\n",
    "\n",
    "for _ in range(10):\n",
    "    P = berlekamp_massey(int(next(lfsr)))\n",
    "\n",
    "print_poly(P)"
   ]
  },
  {
   "cell_type": "code",
   "execution_count": 20,
   "id": "4998b90b-4e02-4b6f-84b2-ef9eff6256d4",
   "metadata": {},
   "outputs": [
    {
     "name": "stdout",
     "output_type": "stream",
     "text": [
      "x^8 + x^5 + x^3 + x + 1\n"
     ]
    }
   ],
   "source": [
    "lfsr = LFSR([8, 5, 3, 1, 0])\n",
    "berlekamp_massey = BerlekampMassey()\n",
    "\n",
    "for _ in range(2**len(lfsr)):\n",
    "    P = berlekamp_massey(int(next(lfsr)))\n",
    "\n",
    "print_poly(P)"
   ]
  },
  {
   "cell_type": "code",
   "execution_count": 22,
   "id": "df7738e2-52f4-49b8-b061-3fab8654f3ad",
   "metadata": {},
   "outputs": [
    {
     "name": "stdout",
     "output_type": "stream",
     "text": [
      "x^14 + x^13 + x^10 + x^8 + x^7 + x^5 + x^4 + x^3 + x^2 + x + 1\n"
     ]
    }
   ],
   "source": [
    "lfsr = LFSR([14, 13, 10, 8, 7, 5, 4, 3, 2, 1, 0])\n",
    "berlekamp_massey = BerlekampMassey()\n",
    "\n",
    "# Produce a number of bits double wrt the length of the LFSR\n",
    "for _ in range(2*2**len(lfsr)):\n",
    "    P = berlekamp_massey(int(next(lfsr)))\n",
    "\n",
    "print_poly(P)"
   ]
  }
 ],
 "metadata": {
  "kernelspec": {
   "display_name": "Python 3",
   "language": "python",
   "name": "python3"
  },
  "language_info": {
   "codemirror_mode": {
    "name": "ipython",
    "version": 3
   },
   "file_extension": ".py",
   "mimetype": "text/x-python",
   "name": "python",
   "nbconvert_exporter": "python",
   "pygments_lexer": "ipython3",
   "version": "3.9.5"
  }
 },
 "nbformat": 4,
 "nbformat_minor": 5
}
