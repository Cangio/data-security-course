{
 "cells": [
  {
   "cell_type": "markdown",
   "id": "2057da4b-23a9-4e15-82b9-986554368f64",
   "metadata": {},
   "source": [
    "# **Streaming Ciper**"
   ]
  },
  {
   "cell_type": "code",
   "execution_count": 1,
   "id": "db5158fd-ca72-4a35-9d50-a1c8824f33a9",
   "metadata": {},
   "outputs": [],
   "source": [
    "import matplotlib.pyplot as plt\n",
    "import numpy as np\n",
    "from itertools import islice\n",
    "from functools import reduce\n",
    "from operator import xor\n",
    "\n",
    "import sys, os\n",
    "sys.path.append(os.path.abspath(\"../\"))\n",
    "from Cangini import LFSR"
   ]
  },
  {
   "cell_type": "markdown",
   "id": "29eec049-6754-40c0-878b-3b5ce4a29f62",
   "metadata": {},
   "source": [
    "## Get byte from bit stream"
   ]
  },
  {
   "cell_type": "code",
   "execution_count": 2,
   "id": "33a176e5-537f-4b29-b068-6bbc8d9bae27",
   "metadata": {},
   "outputs": [],
   "source": [
    "def pseudo_random_byte_generator(seed=None, bit_generator=None, **kwargs):\n",
    "    \n",
    "    if bit_generator is None:\n",
    "        poly = [12, 6, 4, 1, 0]\n",
    "        bits = LFSR(poly, seed)\n",
    "    else:\n",
    "        bits = bit_generator(seed, **kwargs)\n",
    "        \n",
    "    while True:\n",
    "        outp_byte = sum(int(next(bits))<<i for i in range(8))\n",
    "        yield outp_byte"
   ]
  },
  {
   "cell_type": "code",
   "execution_count": 4,
   "id": "2cc4b4ec-d52a-41b0-885c-9c7326c30fa4",
   "metadata": {},
   "outputs": [
    {
     "data": {
      "text/plain": [
       "b'\\xff\\xd7\\xa2\\x1aK\\xed\\xa0\\xcb\\xd3\\xbc\\xd8\\x7f\\xf3S\\xfa#C\\x82+\\x90\\xfa\\xe7W:\\x18<k\\x95\\x99\\x1dE|t\\x1b\\x90\\xcb\\xe2\\xb96s\\x98\\xf7f\\xd0\\n\\x95\\xfb\\x17\\x99e\\xa2S\\xa9,q\\x97\\x96|_\\xf3\\x8d\\x03h\\xb4\\xcf\\x13\\x87\\xa7\\x96MZ\\x1d\\x81h\\xcc(<Z\\x90w\\x11.\\xd8\\xe8\\xe8\\xd9\\xdc2>U\\xf1m\\x9e\\xd7\\xc0\\x10\\x97\\xf4v\\x83'"
      ]
     },
     "execution_count": 4,
     "metadata": {},
     "output_type": "execute_result"
    }
   ],
   "source": [
    "n_bytes = 100\n",
    "byte_gen = pseudo_random_byte_generator()\n",
    "\n",
    "b_stream = [byte for byte in islice(byte_gen, n_bytes)]\n",
    "#print(key)\n",
    "bytes(b_stream)[:100]"
   ]
  },
  {
   "cell_type": "markdown",
   "id": "3b529627-0e47-4410-bd8b-e113058cabdf",
   "metadata": {},
   "source": [
    "## Stream Cipher"
   ]
  },
  {
   "cell_type": "code",
   "execution_count": 16,
   "id": "20cec622-1a53-40a5-9e88-506ab346e28b",
   "metadata": {},
   "outputs": [],
   "source": [
    "class StreamCipher():\n",
    "    '''\n",
    "    The class implements the provided Pseudo Random Number Generator.\n",
    "    \n",
    "    Methods:\n",
    "        encrypt: Takes the plaintext end return the encoded ciphertext\n",
    "        \n",
    "        decrypt: Takes the ciphertext and return the decoded plaintext\n",
    "    '''\n",
    "    \n",
    "    def __init__(self, key, prng=None, **kwargs):\n",
    "        if prng is None:\n",
    "            # If not provided use default PRNG\n",
    "            self._prng = pseudo_random_byte_generator()\n",
    "        else:\n",
    "            # If provided call the function\n",
    "            self._prng = prng(key, **kwargs)\n",
    "            \n",
    "    def encrypt(self, plaintext):\n",
    "        '''Provide a plaintext as a byte string and return\n",
    "        the encrypted ciphertext.\n",
    "        Bytes are encoded byte-to-byte.'''\n",
    "        return bytes(ch ^ next(self._prng) for ch in plaintext)\n",
    "    \n",
    "    def decrypt(self, ciphertext):\n",
    "        '''Provide a ciphertext as a byte string and return\n",
    "        the decrypted plaintext.\n",
    "        Bytes are decoded byte-to-byte.'''\n",
    "        return bytes(ch ^ next(self._prng) for ch in ciphertext)"
   ]
  },
  {
   "cell_type": "markdown",
   "id": "6b883661-2cf8-4beb-8dcf-c6bc8e7f69a7",
   "metadata": {},
   "source": [
    "### Test the Stream Cipher class with default values:"
   ]
  },
  {
   "cell_type": "code",
   "execution_count": 6,
   "id": "1d81ecc7-3f20-4ab7-85c5-4f49e40f1bef",
   "metadata": {},
   "outputs": [
    {
     "name": "stdout",
     "output_type": "stream",
     "text": [
      "b'hello world!'\n",
      "b'\\x97\\xb2\\xcev$\\xcd\\xd7\\xa4\\xa1\\xd0\\xbc^'\n",
      "b'hello world!'\n"
     ]
    }
   ],
   "source": [
    "message = \"hello world!\"\n",
    "key = 0x0123456789ABCDEF\n",
    "\n",
    "alice = StreamCipher(key)\n",
    "bob = StreamCipher(key)\n",
    "\n",
    "plainA = message.encode('utf-8')\n",
    "chipert = alice.encrypt(plainA)\n",
    "plainB = bob.decrypt(chipert)\n",
    "\n",
    "print(plainA)\n",
    "print(chipert)\n",
    "print(plainB)"
   ]
  },
  {
   "cell_type": "markdown",
   "id": "8c4cd896-27c7-44d0-aa44-f326786fd069",
   "metadata": {},
   "source": [
    "## A5/1"
   ]
  },
  {
   "cell_type": "code",
   "execution_count": 7,
   "id": "0dd8138a-67ae-4768-979c-255012a61406",
   "metadata": {},
   "outputs": [],
   "source": [
    "class A5_1(object):\n",
    "    '''\n",
    "    A5/1 stream cipher\n",
    "    '''\n",
    "    \n",
    "    def __init__(self, key, frame=0, debug=False):\n",
    "        key_length = 64\n",
    "        frame_length = 22\n",
    "        polys = [\n",
    "            [19, 18, 17, 14, 0],\n",
    "            [22, 21, 0],\n",
    "            [23, 22, 21, 8, 0]\n",
    "        ]\n",
    "        \n",
    "        self._lfsrs = [LFSR(poly, state=0) for poly in polys]\n",
    "        self._ckbits = [10, 11, 12]\n",
    "        self._count = 0\n",
    "        \n",
    "        # Initialize LFSR with key\n",
    "        if debug:\n",
    "            print(\"---- KEY INSERTION ----\")\n",
    "            print(\"LFSR1  LFSR2   LFSR3\")\n",
    "        for bit, i in zip([int(ci) for ci in f'{key:0{key_length}b}'[::-1]], range(key_length)):\n",
    "            for lfsr in self._lfsrs:\n",
    "                lfsr.feedback ^= bit\n",
    "                next(lfsr)\n",
    "            if debug and (i < 10):\n",
    "                print(f'{self._lfsrs[0].state:05x}  {self._lfsrs[1].state:06x}  {self._lfsrs[2].state:06x}')\n",
    "        if debug:\n",
    "            print(\"...    ...     ...\")\n",
    "            print(f'{self._lfsrs[0].state:05x}  {self._lfsrs[1].state:06x}  {self._lfsrs[2].state:06x}')\n",
    "        \n",
    "        # Add frame to LFSRs\n",
    "        if debug:\n",
    "            print(\"---- FRAME INSERTION ----\")\n",
    "            print(\"LFSR1  LFSR2   LFSR3\")\n",
    "        for bit in [int(ci) for ci in f'{frame:0{frame_length}b}'[::-1][:frame_length]]:\n",
    "            for lfsr in self._lfsrs:\n",
    "                lfsr.feedback ^= bit\n",
    "                next(lfsr)\n",
    "            if debug:\n",
    "                print(f'{self._lfsrs[0].state:05x}  {self._lfsrs[1].state:06x}  {self._lfsrs[2].state:06x}')\n",
    "        \n",
    "        if debug:\n",
    "            print(\"---- KEY MIXING ----\")\n",
    "        for _ in range(100):\n",
    "            next(self)\n",
    "        \n",
    "    @property\n",
    "    def majority(self):\n",
    "        bits = [bool(lfsr.state & (1 << ckbit)) for lfsr, ckbit in zip(self._lfsrs, self._ckbits)]\n",
    "\n",
    "        majority = sum(bits) > 1\n",
    "        return majority\n",
    "    \n",
    "    @majority.setter\n",
    "    def majority(self, val):\n",
    "        raise AttributeError('Denied')\n",
    "    \n",
    "    def __iter__(self):\n",
    "        return self\n",
    "    \n",
    "    def __next__(self):\n",
    "        maj = self.majority\n",
    "        \n",
    "        for lfsr, ckbit in zip(self._lfsrs, self._ckbits):\n",
    "            if bool(lfsr.state & (1<<ckbit)) == maj:\n",
    "                next(lfsr)\n",
    "        \n",
    "        return self.output\n",
    "    \n",
    "    # ==== OUTPUT PROPERTY ====\n",
    "    @property\n",
    "    def output(self):\n",
    "        output = reduce(xor, [lfsr.output for lfsr in self._lfsrs])\n",
    "        return output\n",
    "    @output.setter\n",
    "    def output(self, val):\n",
    "        raise AttributeError('Denied')\n",
    "    \n",
    "    # ==== PRINT CURRENT REGISTER STATUS ===\n",
    "    def __str__(self):\n",
    "        _str = f'LFSR1: {self._lfsrs[0].state:05x}  LFSR2: {self._lfsrs[1].state:06x}  LFSR3: {self._lfsrs[2].state:06x}  output: {self.output}'\n",
    "        return _str\n",
    "    def __repr__(self):\n",
    "        return f'A5/1 PRNG -> ({str(self)})'"
   ]
  },
  {
   "cell_type": "code",
   "execution_count": 8,
   "id": "0b49156c-c6cc-4feb-881a-1efd7c66daf7",
   "metadata": {},
   "outputs": [
    {
     "name": "stdout",
     "output_type": "stream",
     "text": [
      "---- KEY INSERTION ----\n",
      "LFSR1  LFSR2   LFSR3\n",
      "40000  200000  400000\n",
      "60000  300000  600000\n",
      "70000  380000  700000\n",
      "78000  3c0000  780000\n",
      "3c000  1e0000  3c0000\n",
      "5e000  2f0000  5e0000\n",
      "6f000  378000  6f0000\n",
      "77800  3bc000  778000\n",
      "7bc00  3de000  3bc000\n",
      "3de00  1ef000  5de000\n",
      "...    ...     ...\n",
      "1cc07  19f655  07820a\n",
      "---- FRAME INSERTION ----\n",
      "LFSR1  LFSR2   LFSR3\n",
      "4e603  2cfb2a  03c105\n",
      "67301  167d95  01e082\n",
      "73980  2b3eca  00f041\n",
      "79cc0  159f65  407820\n",
      "7ce60  0acfb2  603c10\n",
      "7e730  2567d9  301e08\n",
      "3f398  12b3ec  580f04\n",
      "1f9cc  0959f6  6c0782\n",
      "0fce6  04acfb  3603c1\n",
      "47e73  02567d  5b01e0\n",
      "63f39  212b3e  2d80f0\n",
      "71f9c  10959f  16c078\n",
      "78fce  084acf  4b603c\n",
      "7c7e7  242567  25b01e\n",
      "7e3f3  3212b3  12d80f\n",
      "7f1f9  190959  096c07\n",
      "7f8fc  0c84ac  04b603\n",
      "7fc7e  264256  025b01\n",
      "3fe3f  13212b  012d80\n",
      "5ff1f  299095  4096c0\n",
      "6ff8f  34c84a  604b60\n",
      "37fc7  1a6425  7025b0\n",
      "---- KEY MIXING ----\n",
      "LFSR1: 45447  LFSR2: 0cfd41  LFSR3: 2a90e7  output: 1\n"
     ]
    }
   ],
   "source": [
    "key, frame = 0x0123456789ABCDEF, 0x2F695A\n",
    "a5_1 = A5_1(key, frame, True)\n",
    "print(a5_1)"
   ]
  },
  {
   "cell_type": "code",
   "execution_count": 9,
   "id": "dfe51f03-daf5-4385-b650-6023efb9d09d",
   "metadata": {},
   "outputs": [
    {
     "name": "stdout",
     "output_type": "stream",
     "text": [
      "b'hello world!'\n",
      "b'\\x97\\xb2\\xcev$\\xcd\\xd7\\xa4\\xa1\\xd0\\xbc^'\n",
      "b'hello world!'\n"
     ]
    }
   ],
   "source": [
    "message = \"hello world!\"\n",
    "key = 0x0123456789ABCDEF\n",
    "frame = 0x2F695A\n",
    "\n",
    "alice = StreamCipher(key, bit_generator=A5_1, frame=frame)\n",
    "bob = StreamCipher(key, bit_generator=A5_1, frame=frame)\n",
    "\n",
    "plainA = message.encode('utf-8')\n",
    "chipert = alice.encrypt(plainA)\n",
    "plainB = bob.decrypt(chipert)\n",
    "\n",
    "print(plainA)\n",
    "print(chipert)\n",
    "print(plainB)"
   ]
  },
  {
   "cell_type": "markdown",
   "id": "1ee6bb63-d174-49a0-8250-cf96a3fbd3cb",
   "metadata": {},
   "source": [
    "## Rivest Cipher 4 (RC4)"
   ]
  },
  {
   "cell_type": "code",
   "execution_count": 12,
   "id": "116463c5-6b62-43e8-b0b9-55eedf2bac56",
   "metadata": {},
   "outputs": [],
   "source": [
    "class RC4(object):\n",
    "    '''\n",
    "    RC4 Stream Cipher implementation\n",
    "    '''\n",
    "    \n",
    "    def __init__(self, key, key_length=None, drop=0):\n",
    "        '''\n",
    "        \n",
    "        '''\n",
    "        \n",
    "        self._L = key_length # Store the key length\n",
    "        if self._L is None:\n",
    "            self._L = len(key)\n",
    "        \n",
    "        self._i = 0\n",
    "        self._j = 0\n",
    "        \n",
    "        # Generate identity permutation\n",
    "        self._P = np.array(range(256))\n",
    "        # Initialize permutation with given key\n",
    "        for i in range(256):\n",
    "            self._j = (self._j + self._P[i] + key[i % self._L]) % 256\n",
    "            self._P[i], self._P[self._j] = self._P[self._j], self._P[i]\n",
    "        \n",
    "        self._j = 0\n",
    "        \n",
    "        # If drop > 0, discard initial #drop bytes produced\n",
    "        for _ in range(drop):\n",
    "            next(self)\n",
    "    \n",
    "    def __iter__(self):\n",
    "        return self\n",
    "    \n",
    "    def __next__(self):\n",
    "        self._i = (self._i + 1) % 256\n",
    "        self._j = (self._j + self._P[self._i]) % 256\n",
    "        self._P[self._i], self._P[self._j] = self._P[self._j], self._P[self._i]\n",
    "        return self._P[(self._P[self._i] + self._P[self._j]) % 256]"
   ]
  },
  {
   "cell_type": "markdown",
   "id": "c4110e32-041a-4788-a110-738441fa6370",
   "metadata": {},
   "source": [
    "### Test the RC4 implementation\n",
    "Implements the code via the StreamCipher class already developed"
   ]
  },
  {
   "cell_type": "code",
   "execution_count": 19,
   "id": "0558a4f3-41cc-4e29-9d73-51927ff75310",
   "metadata": {},
   "outputs": [
    {
     "name": "stdout",
     "output_type": "stream",
     "text": [
      "b'hello world!'\n",
      "b'/\\x9e\\xf9\\x83@\\x81}\\xa9\\xd0\\xd4\\xd5\\xf4'\n",
      "b'hello world!'\n"
     ]
    }
   ],
   "source": [
    "message = \"hello world!\"\n",
    "key = b'0123456789ABCDEF'\n",
    "n_drop = 3072\n",
    "\n",
    "alice = StreamCipher(key, prng=RC4, drop=n_drop)\n",
    "bob = StreamCipher(key, prng=RC4, drop=n_drop)\n",
    "\n",
    "plainA = message.encode('utf-8')\n",
    "chipert = alice.encrypt(plainA)\n",
    "plainB = bob.decrypt(chipert)\n",
    "\n",
    "print(plainA)\n",
    "print(chipert)\n",
    "print(plainB)"
   ]
  }
 ],
 "metadata": {
  "kernelspec": {
   "display_name": "Python 3",
   "language": "python",
   "name": "python3"
  },
  "language_info": {
   "codemirror_mode": {
    "name": "ipython",
    "version": 3
   },
   "file_extension": ".py",
   "mimetype": "text/x-python",
   "name": "python",
   "nbconvert_exporter": "python",
   "pygments_lexer": "ipython3",
   "version": "3.9.5"
  }
 },
 "nbformat": 4,
 "nbformat_minor": 5
}
