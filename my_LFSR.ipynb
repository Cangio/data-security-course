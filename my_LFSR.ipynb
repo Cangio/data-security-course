{
 "cells": [
  {
   "cell_type": "code",
   "execution_count": 1,
   "id": "3dd3629c-4e9f-409d-8e3b-2f2d04e40a47",
   "metadata": {},
   "outputs": [],
   "source": [
    "import numpy as np\n",
    "import math\n",
    "from operator import xor\n",
    "from functools import reduce\n",
    "from itertools import compress\n",
    "from itertools import islice"
   ]
  },
  {
   "cell_type": "code",
   "execution_count": 10,
   "id": "07b53b41-f98d-4d0f-aa08-090b35004dfc",
   "metadata": {},
   "outputs": [],
   "source": [
    "def lfsr_generator(poly, state=None):\n",
    "    '''\n",
    "    Generator implementing a Linear Feedback Shift Register (LFSR)\n",
    "    \n",
    "    Args:\n",
    "        poly: list of int,\n",
    "            feedback polinomial expressed as list of power exponents\n",
    "        state: int, optional\n",
    "            initial state of the LFSR (all 1 if not provided)\n",
    "            \n",
    "    Return:\n",
    "        b: bool,\n",
    "            generated output bit\n",
    "    '''\n",
    "    \n",
    "    # Degree of LFSR\n",
    "    length = max(poly)\n",
    "    poly = [i in poly for i in range(length+1)]\n",
    "    \n",
    "    if state is None:\n",
    "        state = [True for _ in range(length)]\n",
    "    else:\n",
    "        state = [bool((state >> bit) & 1) for bit in range(len(bin(state)) - 3, -1, -1)]\n",
    "        \n",
    "    output = state[0]\n",
    "    feedback = reduce(xor, compress(state[::-1], poly[1:]))\n",
    "    \n",
    "    while True:\n",
    "        state = state[1:] + [feedback] # Shift to right and add the feedback\n",
    "        output = state[0]\n",
    "        feedback = reduce(xor, compress(state[::-1], poly[1:]))\n",
    "        print(''.join(str(int(s)) for s in state)[::-1], \"  \", int(output), \" \", int(feedback))\n",
    "        yield output"
   ]
  },
  {
   "cell_type": "markdown",
   "id": "ecdecc9d-9d94-4f69-8666-d4cd3bc18b65",
   "metadata": {},
   "source": [
    "### Produce polynomial vector"
   ]
  },
  {
   "cell_type": "code",
   "execution_count": 6,
   "id": "80ad293b-5df1-4770-9d70-e347efa261ce",
   "metadata": {},
   "outputs": [
    {
     "name": "stdout",
     "output_type": "stream",
     "text": [
      "[True, True, False, True]\n"
     ]
    }
   ],
   "source": [
    "poly_int = [3, 1, 0] # Polynomial expressed as list of int corresponding to degree\n",
    "\n",
    "length = max(poly_int) # Take max-degree+1 to create list\n",
    "\n",
    "poly = [i in poly_int for i in range(length+1)]\n",
    "print(poly)"
   ]
  },
  {
   "cell_type": "markdown",
   "id": "a9ff8ae9-89a2-4f8f-8277-76daea989f95",
   "metadata": {},
   "source": [
    "### Compute state"
   ]
  },
  {
   "cell_type": "code",
   "execution_count": 19,
   "id": "18317f76-5b11-440e-8eab-efdf09fbbfd4",
   "metadata": {},
   "outputs": [
    {
     "data": {
      "text/plain": [
       "[True, True, True]"
      ]
     },
     "execution_count": 19,
     "metadata": {},
     "output_type": "execute_result"
    }
   ],
   "source": [
    "state = [bool((7 >> bit) & 1) for bit in range(len(bin(7)) - 3, -1, -1)]\n",
    "state"
   ]
  },
  {
   "cell_type": "markdown",
   "id": "ff5b2c36-2ccd-4042-949e-98c895921107",
   "metadata": {},
   "source": [
    "### Compute feedback"
   ]
  },
  {
   "cell_type": "code",
   "execution_count": 8,
   "id": "edf312e1-670c-435d-9055-63eaed9ab4ad",
   "metadata": {},
   "outputs": [
    {
     "data": {
      "text/plain": [
       "True"
      ]
     },
     "execution_count": 8,
     "metadata": {},
     "output_type": "execute_result"
    }
   ],
   "source": [
    "fb = reduce(lambda a,b: a^b, list(x^y for x,y in zip(state[::-1], poly[1:])))\n",
    "fb"
   ]
  },
  {
   "cell_type": "code",
   "execution_count": 11,
   "id": "bf7b3bf1-6f84-49ec-903e-deee208440ef",
   "metadata": {},
   "outputs": [
    {
     "data": {
      "text/plain": [
       "False"
      ]
     },
     "execution_count": 11,
     "metadata": {},
     "output_type": "execute_result"
    }
   ],
   "source": [
    "reduce(xor, compress(state[::-1], poly[1:]))"
   ]
  },
  {
   "cell_type": "code",
   "execution_count": 11,
   "id": "1b6bdfed-4afd-43c2-a848-b29414733114",
   "metadata": {},
   "outputs": [
    {
     "name": "stdout",
     "output_type": "stream",
     "text": [
      "state  b  fb\n",
      "011    1   1\n",
      "101    1   0\n",
      "010    0   0\n",
      "001    1   1\n",
      "100    0   1\n",
      "110    0   1\n",
      "111    1   0\n"
     ]
    }
   ],
   "source": [
    "poly_int = [3, 1, 0] # Feedback polynomial (primitive)\n",
    "state = 0x7      # Initial state 0b111\n",
    "iters = 7        # Iterations\n",
    "\n",
    "lfsr = lfsr_generator(poly_int, state) \n",
    "\n",
    "print(\"state  b  fb\")\n",
    "for b in islice(lfsr, iters):\n",
    "    # do nothing, just let the generator print its internal state\n",
    "    pass"
   ]
  },
  {
   "cell_type": "markdown",
   "id": "781a7718-e186-42f0-81c3-4fc0c07fa50a",
   "metadata": {},
   "source": [
    "# **LFSR Iterator**"
   ]
  },
  {
   "cell_type": "code",
   "execution_count": 9,
   "id": "4670c9c9-2230-4fc2-9b19-b274d3d3bc2a",
   "metadata": {},
   "outputs": [],
   "source": [
    "class LFSR(object):\n",
    "    '''\n",
    "    LFSR Iterator\n",
    "    '''\n",
    "    \n",
    "    def __init__(self, poly, state=None):\n",
    "        self._poly = sum([2**i for i in poly]) >> 1 # p0 always one\n",
    "        self._length = max(poly)\n",
    "        \n",
    "        # If no state provided initialize with 111...1\n",
    "        self._smask = (1<<self._length) - 1\n",
    "        if state is None:\n",
    "            state = self._smask\n",
    "        self.state = state\n",
    "        \n",
    "        self._output = self._state >> (self._length-1)\n",
    "        \n",
    "        self._feedback = self._parity(self._state & self._poly)\n",
    "    \n",
    "    def _parity(self, num):\n",
    "        ite = 1\n",
    "        ones = 0\n",
    "        while ite <= num:\n",
    "            if ite & num:\n",
    "                ones = ones + 1\n",
    "            ite = ite << 1\n",
    "        return ones % 2\n",
    "    \n",
    "    # ==== OUTPUT ====\n",
    "    @property\n",
    "    def output(self):\n",
    "        return self._output\n",
    "    @output.setter\n",
    "    def output(self, val):\n",
    "        raise AttributeError('Denied')\n",
    "        \n",
    "    # ==== FEEDBACK ====\n",
    "    @property\n",
    "    def feedback(self):\n",
    "        return self._feedback\n",
    "    @feedback.setter\n",
    "    def feedback(self, feedback):\n",
    "        self._feedback = bool(feedback)\n",
    "        \n",
    "    # ==== LENGTH ====\n",
    "    @property\n",
    "    def length(self):\n",
    "        return self._length\n",
    "    @output.setter\n",
    "    def length(self, val):\n",
    "        raise AttributeError('Denied')\n",
    "        \n",
    "    # ==== STATE ====\n",
    "    @property\n",
    "    def state(self):\n",
    "        # state is re-reversed before being read\n",
    "        return int(f'{self._state:0{len(self)}b}'[::-1], 2)\n",
    "    @state.setter\n",
    "    def state(self, state):\n",
    "        # ensure seed is in the range [1, 2**m-1]\n",
    "        #if (state < 1) or (state > len(self)):\n",
    "            #state = 1 + state % (2**len(self)-2)\n",
    "        self._state = int(f'{state:0{len(self)}b}'[::-1], 2)\n",
    "    \n",
    "    def __iter__(self):\n",
    "        return self\n",
    "    \n",
    "    def __next__(self):\n",
    "        '''Execute a LFSR step and returns the output bit (bool)'''\n",
    "        self._state = ((self._state << 1) | self._feedback) & self._smask\n",
    "        self._output = self._state >> (self._length-1)\n",
    "        self._feedback = self._parity(self._state & self._poly)\n",
    "        return bool(self._output)\n",
    "    \n",
    "    def __len__(self):\n",
    "        return self._length\n",
    "    \n",
    "    def run_steps(self, N=1):\n",
    "        '''\n",
    "        Run given number of steps and return the output stream\n",
    "        '''\n",
    "        return [next(self) for _ in range(n)]\n",
    "    \n",
    "    def cycle(self, state=None):\n",
    "        if state is not None:\n",
    "            self.state = state\n",
    "        return self.run_steps(2**len(self) - 1)\n",
    "    \n",
    "    def __str__(self):\n",
    "        return Noneclass LFSR(object):\n",
    "    '''\n",
    "    LFSR Iterator\n",
    "    '''\n",
    "    \n",
    "    def __init__(self, poly, state=None):\n",
    "        self._poly = sum([2**i for i in poly]) >> 1 # p0 always one\n",
    "        self._length = max(poly)\n",
    "        \n",
    "        # If no state provided initialize with 111...1\n",
    "        self._smask = (1<<self._length) - 1\n",
    "        if state is None:\n",
    "            state = self._smask\n",
    "        self.state = state\n",
    "        \n",
    "        self._output = self._state >> (self._length-1)\n",
    "        \n",
    "        self._feedback = self._parity(self._state & self._poly)\n",
    "    \n",
    "    def _parity(self, num):\n",
    "        ite = 1\n",
    "        ones = 0\n",
    "        while ite <= num:\n",
    "            if ite & num:\n",
    "                ones = ones + 1\n",
    "            ite = ite << 1\n",
    "        return ones % 2\n",
    "    \n",
    "    # ==== OUTPUT ====\n",
    "    @property\n",
    "    def output(self):\n",
    "        return self._output\n",
    "    @output.setter\n",
    "    def output(self, val):\n",
    "        raise AttributeError('Denied')\n",
    "        \n",
    "    # ==== FEEDBACK ====\n",
    "    @property\n",
    "    def feedback(self):\n",
    "        return self._feedback\n",
    "    @feedback.setter\n",
    "    def feedback(self, feedback):\n",
    "        self._feedback = bool(feedback)\n",
    "        \n",
    "    # ==== LENGTH ====\n",
    "    @property\n",
    "    def length(self):\n",
    "        return self._length\n",
    "    @output.setter\n",
    "    def length(self, val):\n",
    "        raise AttributeError('Denied')\n",
    "        \n",
    "    # ==== STATE ====\n",
    "    @property\n",
    "    def state(self):\n",
    "        # state is re-reversed before being read\n",
    "        return int(f'{self._state:0{len(self)}b}'[::-1], 2)\n",
    "    @state.setter\n",
    "    def state(self, state):\n",
    "        # ensure seed is in the range [1, 2**m-1]\n",
    "        #if (state < 1) or (state > len(self)):\n",
    "            #state = 1 + state % (2**len(self)-2)\n",
    "        self._state = int(f'{state:0{len(self)}b}'[::-1], 2)\n",
    "    \n",
    "    def __iter__(self):\n",
    "        return self\n",
    "    \n",
    "    def __next__(self):\n",
    "        '''Execute a LFSR step and returns the output bit (bool)'''\n",
    "        self._state = ((self._state << 1) | self._feedback) & self._smask\n",
    "        self._output = self._state >> (self._length-1)\n",
    "        self._feedback = self._parity(self._state & self._poly)\n",
    "        return bool(self._output)\n",
    "    \n",
    "    def __len__(self):\n",
    "        return self._length\n",
    "    \n",
    "    def run_steps(self, N=1):\n",
    "        '''\n",
    "        Run given number of steps and return the output stream\n",
    "        '''\n",
    "        return [next(self) for _ in range(n)]\n",
    "    \n",
    "    def cycle(self, state=None):\n",
    "        if state is not None:\n",
    "            self.state = state\n",
    "        return self.run_steps(2**len(self) - 1)\n",
    "    \n",
    "    def __str__(self):\n",
    "        return None"
   ]
  },
  {
   "cell_type": "code",
   "execution_count": 11,
   "id": "6efa19cd-a7fc-43ad-af3a-be7fcc7e936c",
   "metadata": {
    "tags": []
   },
   "outputs": [
    {
     "name": "stdout",
     "output_type": "stream",
     "text": [
      "State |  b  |  fb\n",
      " 100  |  0  |  1\n",
      " 110  |  0  |  1\n",
      " 111  |  1  |  0\n",
      " 011  |  1  |  1\n",
      " 101  |  1  |  0\n",
      " 010  |  0  |  0\n",
      " 001  |  1  |  1\n",
      " 100  |  0  |  1\n",
      " 110  |  0  |  1\n",
      " 111  |  1  |  0\n",
      " 011  |  1  |  1\n"
     ]
    }
   ],
   "source": [
    "lfsr = LFSR([3, 1, 0], 4)\n",
    "\n",
    "print(\"State |  b  |  fb\")\n",
    "print(f' {lfsr.state:0{len(lfsr)}b}  |  {lfsr.output}  |  {lfsr.feedback}')\n",
    "\n",
    "for _ in islice(lfsr, 10):\n",
    "    print(f' {lfsr.state:0{len(lfsr)}b}  |  {lfsr.output}  |  {lfsr.feedback}')"
   ]
  },
  {
   "cell_type": "code",
   "execution_count": 2,
   "id": "279bb9b7-3e30-4d29-886f-8a3dcbb7cb38",
   "metadata": {},
   "outputs": [
    {
     "name": "stdout",
     "output_type": "stream",
     "text": [
      "0b100101\n"
     ]
    }
   ],
   "source": [
    "poly = [5, 2, 0]\n",
    "p = bin(sum([2**i for i in poly]))\n",
    "print(p)"
   ]
  },
  {
   "cell_type": "code",
   "execution_count": null,
   "id": "973eecb6-b1aa-4729-891d-bb91b1324f3f",
   "metadata": {},
   "outputs": [],
   "source": []
  }
 ],
 "metadata": {
  "kernelspec": {
   "display_name": "Python 3",
   "language": "python",
   "name": "python3"
  },
  "language_info": {
   "codemirror_mode": {
    "name": "ipython",
    "version": 3
   },
   "file_extension": ".py",
   "mimetype": "text/x-python",
   "name": "python",
   "nbconvert_exporter": "python",
   "pygments_lexer": "ipython3",
   "version": "3.9.5"
  }
 },
 "nbformat": 4,
 "nbformat_minor": 5
}
