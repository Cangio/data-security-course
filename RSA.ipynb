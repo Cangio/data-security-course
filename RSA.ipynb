{
 "cells": [
  {
   "cell_type": "markdown",
   "id": "0876c207-0735-4dbd-8c2a-bd7a74a3b7f1",
   "metadata": {},
   "source": [
    "# Implementation of RSA algorithm\n",
    "### Simone Cangini - RSA Project"
   ]
  },
  {
   "cell_type": "markdown",
   "id": "9df83d25-bcbb-4c20-9d1d-acb29526ca80",
   "metadata": {},
   "source": [
    "## About RSA"
   ]
  },
  {
   "cell_type": "markdown",
   "id": "c85ae8ff-6fb0-45b9-93cf-4b1a8f390481",
   "metadata": {},
   "source": [
    "RSA is an asymmetric public-key cryptosystem used to encrypt messages. Thanks to the public-key, everyone can encrypt a message, while only who created the public-key can decrypt the received message.<br>\n",
    "It is a computationally intensive algorithm so can be used to exchange a private key for symmetric-key cryptography at the beginning of the conversation.<br>\n",
    "The security of RSA relies on the practical difficulty of factoring the product of two large prime numbers.<br>\n",
    "<br>\n",
    "Alice:\n",
    " - produce 2 large prime numbers (**p**, **q**);\n",
    " - computes their product ($n=pq$);\n",
    " - computes the totient of the product, easy because knows the factorization ($m=(p-1)*(q-1)$);\n",
    " - choose a number **e** coprime with m;\n",
    " - computes the inverse of e (mod m), **d**: $ed=1 \\bmod m$.\n",
    "\n",
    "The **public key** is then composed by **n**, **e**, while **d** must remain private.\n",
    "<br><br>\n",
    "**Encryption**: Bob encrypt the message x computing $y = x^{e} \\bmod n$.<br>\n",
    "**Decryption**: Alice obtain original message x by $x = y^{d} \\bmod n$.\n",
    "<br>\n",
    "<img src=\"http://www.mcseven.me/wp-content/uploads/2009/05/rsa_encryption.png\" width=\"300px\" margin=\"auto\">"
   ]
  },
  {
   "cell_type": "code",
   "execution_count": 1,
   "id": "074380cc-feea-4670-87ab-58e687af1666",
   "metadata": {},
   "outputs": [],
   "source": [
    "import random"
   ]
  },
  {
   "cell_type": "markdown",
   "id": "79c5c9a7-5d77-4143-83b5-265d50245b69",
   "metadata": {},
   "source": [
    "## Miller-Robin algorithm\n",
    "In this section is implemented the Miller-Robin algorithm for primality test.<br>\n",
    "The two prime numbers requested are created by generating large random numbers and checking if they are prime."
   ]
  },
  {
   "cell_type": "markdown",
   "id": "aaa76c4e-0930-4c77-a136-4ad1c5506bd7",
   "metadata": {},
   "source": [
    "### Decompose num"
   ]
  },
  {
   "cell_type": "code",
   "execution_count": 2,
   "id": "c9749c8d-b01e-4cde-9ff3-e820e48002f4",
   "metadata": {},
   "outputs": [
    {
     "name": "stdout",
     "output_type": "stream",
     "text": [
      "r: 2; q: 3\n"
     ]
    }
   ],
   "source": [
    "# Write p = s^r*q + 1\n",
    "    \n",
    "num = 13\n",
    "r, q = 0, num - 1\n",
    "while q % 2 == 0:\n",
    "    r += 1\n",
    "    q //= 2\n",
    "    \n",
    "print(f'r: {r}; q: {q}')"
   ]
  },
  {
   "cell_type": "markdown",
   "id": "27d0cac8-02c2-4e17-8bec-5df8ede30e4a",
   "metadata": {},
   "source": [
    "`q` must be odd"
   ]
  },
  {
   "cell_type": "markdown",
   "id": "f16c013e-0db0-403a-9e12-90f538ac86e5",
   "metadata": {},
   "source": [
    "### Implement algorithm as function"
   ]
  },
  {
   "cell_type": "code",
   "execution_count": 3,
   "id": "ab8dccf6-8720-46a6-84fc-215353080094",
   "metadata": {},
   "outputs": [],
   "source": [
    "def miller_robin(num, niter=None):\n",
    "    '''\n",
    "    Miller-Robin algorithm implementation\n",
    "    Check if a number is prime\n",
    "       \n",
    "    With default niter prob of num erroneusly detected\n",
    "        as prime is 8e-25\n",
    "       \n",
    "    INPUT:\n",
    "        num: int\n",
    "            number to be checked\n",
    "        niter: int (default 40)\n",
    "            number of iterations to be performed\n",
    "     \n",
    "    OUTPUT:\n",
    "        result: True|False\n",
    "            True if number is prime\n",
    "    '''\n",
    "    if niter is None:\n",
    "        niter = 40\n",
    "    \n",
    "    if num % 2 == 0:\n",
    "        return False\n",
    "    \n",
    "    # Write p = s^r*q + 1\n",
    "    r, q = 0, num - 1\n",
    "    while q % 2 == 0:\n",
    "        r += 1\n",
    "        q //= 2\n",
    "        \n",
    "    # Repeat niter times\n",
    "    for _ in range(niter):\n",
    "        x = random.randint(1, num-1)\n",
    "        #y = (x**q) % num\n",
    "        y = pow(x, q, num)\n",
    "        \n",
    "        if y == 1 or y == num-1:\n",
    "            # Number could be prime,\n",
    "            #  skip the rest of the code\n",
    "            continue\n",
    "        \n",
    "        for _ in range(r - 1):\n",
    "            #y = (y**2) % num\n",
    "            y = pow(y, 2, num)\n",
    "            if y == num-1:\n",
    "                # Number could be prime\n",
    "                break\n",
    "        else:\n",
    "            # If none succeed, number is not prime\n",
    "            return False\n",
    "    return True"
   ]
  },
  {
   "cell_type": "markdown",
   "id": "448d1a43-ea0b-4fa9-a40b-f63880a71805",
   "metadata": {},
   "source": [
    "Check Miller-Robin implementation with prime numbers in tables (already known to be prime)"
   ]
  },
  {
   "cell_type": "code",
   "execution_count": 4,
   "id": "65671043-78e0-4fe7-8299-511bad9b3fd4",
   "metadata": {},
   "outputs": [
    {
     "name": "stdout",
     "output_type": "stream",
     "text": [
      "True\n"
     ]
    }
   ],
   "source": [
    "print(miller_robin(4813))"
   ]
  },
  {
   "cell_type": "code",
   "execution_count": 5,
   "id": "65cbc187-c0ed-4955-8203-278fd37d052b",
   "metadata": {},
   "outputs": [
    {
     "name": "stdout",
     "output_type": "stream",
     "text": [
      "False\n"
     ]
    }
   ],
   "source": [
    "prime = [237091, 237137, 237143] # List of prime numbers to check if func is working\n",
    "print(miller_robin(145863, 1))"
   ]
  },
  {
   "cell_type": "markdown",
   "id": "8d34abf5-f44d-4cad-9b62-e343604d19dd",
   "metadata": {},
   "source": [
    "## Creation of two prime numbers\n",
    "Take randomly one number and check if it is prime with the Miller-Robin primality test"
   ]
  },
  {
   "cell_type": "code",
   "execution_count": 6,
   "id": "f507a963-6003-499e-8a5d-4be6f05ed4bd",
   "metadata": {},
   "outputs": [
    {
     "name": "stdout",
     "output_type": "stream",
     "text": [
      "Numbers tested: 38\n",
      "17190683411255532182861363686309289566882635705069473076422375533982160072078504792628717805848198909058837222327648570979195823968415510036126928197810783\n"
     ]
    }
   ],
   "source": [
    "L = 512\n",
    "p = 4\n",
    "n_test = 0\n",
    "\n",
    "# Cycle until a prime number is found\n",
    "while miller_robin(p, 10) == False:\n",
    "    p = random.randint(2**L, 2**(L+1)-1)\n",
    "    n_test += 1\n",
    "\n",
    "print(f'Numbers tested: {n_test}')\n",
    "print(p)"
   ]
  },
  {
   "cell_type": "code",
   "execution_count": 7,
   "id": "b5c7c480-af9d-45c5-83e8-829d333e636f",
   "metadata": {},
   "outputs": [
    {
     "name": "stdout",
     "output_type": "stream",
     "text": [
      "12.4 µs ± 86.2 ns per loop (mean ± std. dev. of 7 runs, 100000 loops each)\n"
     ]
    }
   ],
   "source": [
    "%timeit miller_robin(2341606047)"
   ]
  },
  {
   "cell_type": "markdown",
   "id": "0ac90c78-ba43-4079-bd12-163fc1b01534",
   "metadata": {},
   "source": [
    "### Make a compact function"
   ]
  },
  {
   "cell_type": "code",
   "execution_count": 8,
   "id": "99c9fab7-0dff-4f54-8422-cbf32ccab06c",
   "metadata": {},
   "outputs": [],
   "source": [
    "def create_prime_num(L, niter=None):\n",
    "    p = 4\n",
    "    while miller_robin(p, niter) == False:\n",
    "        p = random.randint(2**L, 2**(L+1)-1)\n",
    "    return p"
   ]
  },
  {
   "cell_type": "markdown",
   "id": "0ae985b3-713e-4be2-aa8c-b18182883585",
   "metadata": {},
   "source": [
    "## Compute gcd between two numbers\n",
    "The function is needed to check if e is coprime with m"
   ]
  },
  {
   "cell_type": "code",
   "execution_count": 9,
   "id": "7738ba5b-9c28-4f10-bd80-4f64ea5f3d2b",
   "metadata": {},
   "outputs": [],
   "source": [
    "def gcd(n1, n2):\n",
    "    '''\n",
    "    Compute the greatest common divisor between the two numbers\n",
    "    \n",
    "    INPUT:\n",
    "        n1, n2: int\n",
    "    \n",
    "    OUTPUT:\n",
    "        gcd: int\n",
    "    '''\n",
    "    \n",
    "    # Preliminary checks\n",
    "    if n1 == n2:\n",
    "        return n1\n",
    "    if n1 < n2: # n1 must be the greatest\n",
    "        n1, n2 = n2, n1\n",
    "    \n",
    "    # a = qb + r\n",
    "    b = n2\n",
    "    while n1 % n2 != 0:\n",
    "        q = n1 // n2\n",
    "        n1, n2 = n2, n1 % n2\n",
    "    return n2"
   ]
  },
  {
   "cell_type": "code",
   "execution_count": 10,
   "id": "0503a377-6cb4-4776-bacd-92838b39c802",
   "metadata": {},
   "outputs": [
    {
     "data": {
      "text/plain": [
       "51"
      ]
     },
     "execution_count": 10,
     "metadata": {},
     "output_type": "execute_result"
    }
   ],
   "source": [
    "# p: 51*689 q: 51*3345\n",
    "gcd(35139, 170595)"
   ]
  },
  {
   "cell_type": "markdown",
   "id": "10c74dd2-9564-4190-9010-cd20b261d4f9",
   "metadata": {},
   "source": [
    "## Extended Euclidean algorithm\n",
    "Needed to find the multiplicative inverse of e"
   ]
  },
  {
   "cell_type": "code",
   "execution_count": 11,
   "id": "97e6e902-17f7-477d-a991-a6bceac00d0e",
   "metadata": {},
   "outputs": [],
   "source": [
    "def gcdExtended(a, b): \n",
    "    if abs(a) == 1:\n",
    "        return a, 0\n",
    "    elif abs(b) == 1:\n",
    "        return 0, b\n",
    "\n",
    "    r_old, r = a, b\n",
    "    a_old, a = 1, 0\n",
    "    b_old, b = 0, 1\n",
    "\n",
    "    while r != 0:\n",
    "        q = r_old // r\n",
    "        r_old, r = r, r_old - q * r\n",
    "        a_old, a = a, a_old - q * a\n",
    "        b_old, b = b, b_old - q * b\n",
    "\n",
    "    return a_old, b_old"
   ]
  },
  {
   "cell_type": "code",
   "execution_count": 12,
   "id": "29e2592a-8b70-4c87-b110-d9551515c6ff",
   "metadata": {},
   "outputs": [
    {
     "name": "stdout",
     "output_type": "stream",
     "text": [
      "a: -67017; b: 67004\n"
     ]
    }
   ],
   "source": [
    "a,b = gcdExtended(237091, 237137)\n",
    "print(f'a: {a}; b: {b}')"
   ]
  },
  {
   "cell_type": "markdown",
   "id": "2a0d3de7-6acc-4fa5-8349-a8b29b703a88",
   "metadata": {},
   "source": [
    "## Compute all data for RSA\n",
    "Use previous implemented functions to compute all requested parameters for RSA"
   ]
  },
  {
   "cell_type": "code",
   "execution_count": 13,
   "id": "208f5281-4c02-4182-a2f6-7dde5b245647",
   "metadata": {},
   "outputs": [
    {
     "name": "stdout",
     "output_type": "stream",
     "text": [
      "e: 41332174336127729968396966022813715510795123694526512049019721122032338092950068502653231017230509328160657806825702657402153477690436607704554008977520598536771094610861572036693158986614019824864827308268810398870433779485491166052801327931854445809980647689124796526708817287392160398181810933960144334523\n",
      "\n",
      "d: 22060925812435142817186411515187434644300194637150772036104454198415950602674498980380917777553273163172200880539485872068021825249617009835236970054745986677841904071182318911759168675132561879245788500623117998769389196164039243608265110484566924026767077257241245101187438224555322470840331856853650044267\n",
      "\n",
      "ck: 1\n"
     ]
    }
   ],
   "source": [
    "L = 512\n",
    "p, q = create_prime_num(L), create_prime_num(L)\n",
    "\n",
    "n = p*q\n",
    "m = (p-1)*(q-1)\n",
    "\n",
    "ck = 0\n",
    "while ck != 1:\n",
    "    e = random.randint(1, m)\n",
    "    if gcd(e, m) == 1:\n",
    "        d,_ = gcdExtended(e, m)\n",
    "        ck = (e*abs(d)) % m\n",
    "\n",
    "print(f'e: {e}\\n\\nd: {d}')\n",
    "print(f'\\nck: {ck}')"
   ]
  },
  {
   "cell_type": "markdown",
   "id": "d9baf6d5-9bc7-4646-a18d-ec3df2efd78f",
   "metadata": {},
   "source": [
    "Verify $d$ by computing the product $ed \\bmod m$"
   ]
  },
  {
   "cell_type": "markdown",
   "id": "83c18e5a-5867-4207-a5e5-ee217520552a",
   "metadata": {},
   "source": [
    "### Test the encryption/decryption process"
   ]
  },
  {
   "cell_type": "code",
   "execution_count": 14,
   "id": "e8032ccd-31eb-4a22-b4ad-b59df748059c",
   "metadata": {},
   "outputs": [
    {
     "name": "stdout",
     "output_type": "stream",
     "text": [
      "Original message: 1234567890\n",
      "Encrypted: 126400850010232192146520584330097987222641815939137317421444919078226243755934891955174728074864494601566291789047293443113792313699430115131109944516095523484293713621970723203634482696139735043612468984230468778410755265325336068478834998049956867869402506752133047953516973411754644018955031304236444962488\n",
      "Decrypted: 1234567890\n"
     ]
    }
   ],
   "source": [
    "# n, e, d are provided by the code before\n",
    "Kpub = [n, e] # Publick key for Bob\n",
    "Kpri = d      # Private key for Alice\n",
    "\n",
    "# Compute ciphertext from the known plaintext \"1234567890\"\n",
    "encr = pow(1234567890, Kpub[1], Kpub[0])\n",
    "\n",
    "# Compute plaintext from the cypertext\n",
    "decr = pow(encr, Kpri, n)\n",
    "\n",
    "print(f'Original message: 1234567890\\nEncrypted: {encr}\\nDecrypted: {decr}')"
   ]
  },
  {
   "cell_type": "markdown",
   "id": "45c74354-0a2a-4d28-b9d9-39b87888e8bf",
   "metadata": {
    "tags": []
   },
   "source": [
    "# Packing all code in a class\n",
    "All the previous functions "
   ]
  },
  {
   "cell_type": "code",
   "execution_count": 15,
   "id": "387d92e4-64a0-497b-911d-7eb05e955c54",
   "metadata": {},
   "outputs": [],
   "source": [
    "class myRSA(object):\n",
    "    '''\n",
    "    RSA Encryption/Decryption class\n",
    "    \n",
    "    Methods:\n",
    "        - __init__(KSize, debug)\n",
    "        - static encrypt(plain, kPub)\n",
    "        - decrypt(encr)\n",
    "    \n",
    "    Attributes:\n",
    "        - kPub: list of int\n",
    "            get public key as list [n, e]\n",
    "        - KSize: int\n",
    "            return the key size\n",
    "    ''' \n",
    "    \n",
    "    def __init__(self, KSize=512, debug=False):\n",
    "        '''Init RSA object, create public and private key'''\n",
    "               \n",
    "        if KSize < 256:\n",
    "            KSize = 256\n",
    "        self._L = KSize\n",
    "        self._niter = 40\n",
    "        \n",
    "        self._p, self._q = self._create_prime_num(), self._create_prime_num()\n",
    "        \n",
    "        self.n = self.p*self.q\n",
    "        self.m = (self.p-1)*(self.q-1)\n",
    "        \n",
    "        ck = 0\n",
    "        while ck != 1:\n",
    "            self._e = random.randint(1, self.m)\n",
    "            if self._gcd(self.e, self.m) == 1:\n",
    "                self._d,_ = self._gcdExtended(self.e, self.m)\n",
    "                ck = (self.e*abs(self.d)) % self.m\n",
    "        \n",
    "        if debug:\n",
    "            print(\"Key generated\")\n",
    "    \n",
    "    @staticmethod\n",
    "    def encrypt(plain, kPub):\n",
    "        # If plain is provided as string, convert to a number\n",
    "        if isinstance(plain, str):\n",
    "            plain = int.from_bytes(bytes(f'{plain}'.encode(\"utf-8\")), 'big')\n",
    "        \n",
    "        return pow(plain, kPub[1], kPub[0])\n",
    "    \n",
    "    def decrypt(self, encr):\n",
    "        return pow(encr, self.d, self.n)\n",
    "    \n",
    "    # Return public key [n, e]\n",
    "    @property\n",
    "    def kPub(self):\n",
    "        return [self.n, self.e]\n",
    "    # Public key is generated internally\n",
    "    @kPub.setter\n",
    "    def kPub(self, val):\n",
    "        raise AttributeError('Denied')\n",
    "    \n",
    "    # Return p number\n",
    "    @property\n",
    "    def p(self):\n",
    "        return self._p\n",
    "    # p is generated internally\n",
    "    @p.setter\n",
    "    def p(self, val):\n",
    "        raise AttributeError('Denied')\n",
    "        \n",
    "    # Return q number\n",
    "    @property\n",
    "    def q(self):\n",
    "        return self._q\n",
    "    # q is generated internally\n",
    "    @q.setter\n",
    "    def q(self, val):\n",
    "        raise AttributeError('Denied')\n",
    "    \n",
    "    # Return e number\n",
    "    @property\n",
    "    def e(self):\n",
    "        return self._e\n",
    "    # e is generated internally\n",
    "    @e.setter\n",
    "    def e(self, val):\n",
    "        raise AttributeError('Denied')\n",
    "        \n",
    "    # Return d number\n",
    "    @property\n",
    "    def d(self):\n",
    "        return self._d\n",
    "    # d is generated internally\n",
    "    @d.setter\n",
    "    def d(self, val):\n",
    "        raise AttributeError('Denied')\n",
    "    \n",
    "    # Return Key Size\n",
    "    @property\n",
    "    def KSize(self):\n",
    "        return self._L\n",
    "    # Key Size must be set once on __init__ call\n",
    "    @KSize.setter\n",
    "    def KSize(self, val):\n",
    "        raise AttributeError('Denied')\n",
    "    \n",
    "    @staticmethod\n",
    "    def _gcd(n1, n2):\n",
    "        '''\n",
    "        Compute the greatest common divisor between the two numbers\n",
    "\n",
    "        INPUT:\n",
    "            n1,n2: int\n",
    "        \n",
    "        OUTPUT:\n",
    "            gcd: int\n",
    "        '''\n",
    "\n",
    "        # Preliminary checks\n",
    "        if n1 == n2:\n",
    "            return n1\n",
    "        if n1 < n2: # n1 must be the greatest\n",
    "            n1, n2 = n2, n1\n",
    "\n",
    "        # a = qb + r\n",
    "        b = n2\n",
    "        while n1 % n2 != 0:\n",
    "            q = n1 // n2\n",
    "            n1, n2 = n2, n1 % n2\n",
    "        return n2\n",
    "    \n",
    "    @staticmethod\n",
    "    def _gcdExtended(a, b): \n",
    "        if abs(a) == 1:\n",
    "            return a, 0\n",
    "        elif abs(b) == 1:\n",
    "            return 0, b\n",
    "\n",
    "        r_old, r = a, b\n",
    "        a_old, a = 1, 0\n",
    "        b_old, b = 0, 1\n",
    "\n",
    "        while r != 0:\n",
    "            q = r_old // r\n",
    "            r_old, r = r, r_old - q * r\n",
    "            a_old, a = a, a_old - q * a\n",
    "            b_old, b = b, b_old - q * b\n",
    "\n",
    "        return a_old, b_old\n",
    "    \n",
    "    def _create_prime_num(self):\n",
    "        p = 4\n",
    "        while self._miller_robin(p, self._niter) == False:\n",
    "            p = random.randint(2**(self._L), 2**(self._L+1)-1)\n",
    "        return p\n",
    "    \n",
    "    @staticmethod\n",
    "    def _miller_robin(num, niter=None):\n",
    "        '''\n",
    "        Miller-Robin algorithm implementation\n",
    "        Check if a number is prime\n",
    "        \n",
    "        With default niter prob of num erroneusly detected\n",
    "            as prime is 8e-25\n",
    "        \n",
    "        INPUT:\n",
    "            num: int\n",
    "                number to be checked\n",
    "            niter: int (default 40)\n",
    "                number of iterations to be performed\n",
    "        \n",
    "        OUTPUT:\n",
    "            result: True|False\n",
    "                True if number is prime\n",
    "        '''\n",
    "        \n",
    "        if niter is None:\n",
    "            niter = 40\n",
    "\n",
    "        if num % 2 == 0:\n",
    "            return False\n",
    "\n",
    "        # Write p = s^r*q + 1\n",
    "        r, q = 0, num - 1\n",
    "        while q % 2 == 0:\n",
    "            r += 1\n",
    "            q //= 2\n",
    "\n",
    "        # Repeat niter times\n",
    "        for _ in range(niter):\n",
    "            x = random.randint(1, num-1)\n",
    "            #y = (x**q) % num\n",
    "            y = pow(x, q, num)\n",
    "\n",
    "            if y == 1 or y == num-1:\n",
    "                # Number could be prime,\n",
    "                #  skip the rest of the code\n",
    "                continue\n",
    "\n",
    "            for _ in range(r - 1):\n",
    "                #y = (y**2) % num\n",
    "                y = pow(y, 2, num)\n",
    "                if y == num-1:\n",
    "                    # Number could be prime\n",
    "                    break\n",
    "            else:\n",
    "                # If none succeed, number is not prime\n",
    "                return False\n",
    "        return True\n",
    "    \n",
    "    def __str__(self):\n",
    "        _str = f'Public Key:\\nn: {self.n}\\n\\ne: {self.e}'\n",
    "        return _str\n",
    "    \n",
    "    def __repr__(self):\n",
    "        return f'--- RSA implementation ---\\n{self.__str__()}'"
   ]
  },
  {
   "cell_type": "code",
   "execution_count": 22,
   "id": "c93141f6-a383-40f1-a1d3-17f1646fb7b6",
   "metadata": {},
   "outputs": [
    {
     "name": "stdout",
     "output_type": "stream",
     "text": [
      "Public Key:\n",
      "n: 296734531723323797017682564905439498697331234885792742678802100344832068645767602576994094791108773438107177078703302349242794680816035874926311703414143439948704720382332280814410876718322771531643286077206734836944005571168155180480500183713523921179367798204117071704121330579884985666268983587103814677189\n",
      "\n",
      "e: 74662175262538067940949679689305067976389012485496164525119114582418814282697472104780356803619638831027851437441038255764264771031335203504608153914811353163334902016340610279703113218964085872712218950969795309579090390002716318754262932431334964568828696259136456014152581612912637579167426067765167345683\n"
     ]
    }
   ],
   "source": [
    "rsa = myRSA()\n",
    "print(rsa)"
   ]
  },
  {
   "cell_type": "markdown",
   "id": "46a59ed1-fb7a-493e-b9e7-20b4f8ebfddc",
   "metadata": {},
   "source": [
    "## Test class implementation"
   ]
  },
  {
   "cell_type": "code",
   "execution_count": 16,
   "id": "3327493d-dc1b-42f7-87e2-67f5932b197d",
   "metadata": {},
   "outputs": [
    {
     "name": "stdout",
     "output_type": "stream",
     "text": [
      "Key generated\n",
      "Original message: 1234567890\n",
      "Encrypted: 393999596407271049607514490623741818597497719011080548770253852927327217159269413106144013220268181615635645544575937322031392753430574704670110282007276905322170521964341381707160771307338135834274626047339772760452893572676164757066659464131031228765378147948526103141240230910520660325200549188920295903222\n",
      "Decrypted: 1234567890\n"
     ]
    }
   ],
   "source": [
    "rsa = myRSA(debug=True)\n",
    "\n",
    "# Compute ciphertext from the known plaintext \"1234567890\"\n",
    "encr = rsa.encrypt(1234567890, rsa.kPub)\n",
    "\n",
    "# Compute plaintext from the cypertext\n",
    "decr = rsa.decrypt(encr)\n",
    "\n",
    "print(f'Original message: 1234567890\\nEncrypted: {encr}\\nDecrypted: {decr}')"
   ]
  },
  {
   "cell_type": "code",
   "execution_count": 17,
   "id": "39b0c3fb-a060-402b-92d9-af2dac37699f",
   "metadata": {},
   "outputs": [
    {
     "name": "stdout",
     "output_type": "stream",
     "text": [
      "Key generated\n",
      "Original message: Hello world!\n",
      "Encrypted: 90792472862784219600237927895167038538309081218865072194012391355703315813969051781559683358820244176402524013217480966588845476645815653774173704654549495977837592016218585049952871514319194449563522146259902303823097877004020875048876794172912853245550337638251072336132996631704142825966261529518218804521\n",
      "Decrypted: b'Hello world!'\n"
     ]
    }
   ],
   "source": [
    "rsa = myRSA(debug=True)\n",
    "mess = \"Hello world!\"\n",
    "\n",
    "# Compute ciphertext from the known plaintext \"1234567890\"\n",
    "encr = rsa.encrypt(mess, rsa.kPub)\n",
    "\n",
    "# Compute plaintext from the cypertext\n",
    "decr = rsa.decrypt(encr)\n",
    "decr = str(decr.to_bytes(12, byteorder='big'))\n",
    "\n",
    "print(f'Original message: {mess}\\nEncrypted: {encr}\\nDecrypted: {decr}')"
   ]
  },
  {
   "cell_type": "markdown",
   "id": "3e6456f3-edd4-4ed8-a148-db31af16aae4",
   "metadata": {},
   "source": [
    "# Test implementation with public online RSA enc/dec tools\n",
    "For this purpose I used primitive functions in Cryptodome. The motivation is in the way the key are shared.<br>\n",
    "A base64 encoded key, that is the way the keys are copied, does not contain only the numbers that this implementation compute. Public and private keys are packed with other information about the encoding type, description etc.<br>\n",
    "In order to verify the implementation with public online tools I need to add this informations as well. This work is done by the library function, while all values are computed by my implementation.<br>\n",
    "Reference here: [construct function](https://pycryptodome.readthedocs.io/en/latest/src/public_key/rsa.html#Crypto.PublicKey.RSA.construct)"
   ]
  },
  {
   "cell_type": "code",
   "execution_count": 52,
   "id": "f790a39a-4b1b-4b64-8b8a-174455ff8fb1",
   "metadata": {},
   "outputs": [
    {
     "name": "stdout",
     "output_type": "stream",
     "text": [
      "b'MIIBIDANBgkqhkiG9w0BAQEFAAOCAQ0AMIIBCAKBgQILhjcMcegdHvfc5XSeM9GXP+tXgr1iKIv+HYos56XBRlrYxFJC6UXQUOjH9jSlLDg1MGzrz8ytd2/vmXH7/TMJ5dNBTmxt1gl+6/4ggThL+qmzd/2sO+C4rzb0mgBdYk2OigiJhqlmMSJTfujdM7PEhPKh18dL1QKtY2fEsrQ9BwKBgQDXt1Sa3YqSnpfFeqamdd2qsfLhE8q3WESRYlzDbIak0Dn2++vB3awaY0Yo2Py1FlutM+kUXDSHm23gAda2+KdndvB1nrUdZ7PC3l6fSK7Z8KdvyfKqlaNWfdddho/djwyRlZVY1doNX8YCGZRhq9gsa0nOCDsM3g1fke3ZqQ2aNw=='\n",
      "\n"
     ]
    }
   ],
   "source": [
    "import base64\n",
    "from Crypto.PublicKey import RSA\n",
    "\n",
    "rsa1 = myRSA()\n",
    "object_key = RSA.construct((rsa1.n, rsa1.e)) # .construct function accept a touple with only (n,e) for building public key\n",
    "\n",
    "string_key = object_key.exportKey(format='DER') # Export as binary\n",
    "b64_string_key = base64.b64encode(string_key) # Encode in base64 to have a printable object that can be copied/pasted\n",
    "print(b64_string_key)\n",
    "\n",
    "#key = RSA.importKey(base64.b64decode(str_key))\n",
    "#print(key)\n",
    "\n",
    "#priv = base64.b64decode(str_key)\n",
    "#str(priv, \"utf-8\")\n",
    "#str(priv)"
   ]
  },
  {
   "cell_type": "markdown",
   "id": "aec0fc13-3b5b-4767-9a27-167a6dce6c4d",
   "metadata": {
    "tags": []
   },
   "source": [
    "The public key produced by RSA library function has been converted to base64 encoding and given to [online RSA decr/encr](https://www.devglan.com/online-tools/rsa-encryption-decryption). The plaintext inserted was \"sample text to try RSA encoding\".<br>\n",
    "The provided ciphertext has been copied in the variable b64_encr."
   ]
  },
  {
   "cell_type": "code",
   "execution_count": 68,
   "id": "241bce86-8437-48b8-a3bd-c18f7c2de802",
   "metadata": {},
   "outputs": [
    {
     "name": "stdout",
     "output_type": "stream",
     "text": [
      "346234924467792436865103504756694979092436575621472142977695190282534596739260169898993362238330337411956032487348261981523899175705341526819315748415146737032685502367619652351003132775773183255551210167816115177630366174472618999668254065591303540431014998403923128478658067141546207732388540018043050805036\n",
      "Plain text: b'\\x00\\x00\\x00\\x00\\x00\\x00\\x00\\x00\\x00\\x00\\x00\\x00\\x00\\x00\\x00\\x00\\x00\\x00\\x00\\x00\\x00\\x00\\x02\\x99\\xc9\\x9a\\xb5|\\xad\\x8fxdX\\x8an\\xf2H\\xc1\\xaeH\\xa2`E\\xd3\\xf4\\xcd0d\\x8b\\xfc\\x14g\\xdfq\\xcb\\x841\\x90l\\x06\\x08\"/\\xc5\\x1f\\x19V\\xb2\\x85?\\xe2m\\x9a%\\xe4A\\x91\\x1bA\\xc2\\x8c9y\\xa9\\xc8-YQ\\x1c\\xb9\\xd60\"\\xd9m\\xfeb\\xadt\\xd4\\xe1\\xc7\\xb5)\\xb3\\x16\\x8eS\\x16\\xcb\\xe4{<\\xf8\\xcb\\xe4\\x9b\\xf7\\x00sample text to try RSA encoding'\n"
     ]
    }
   ],
   "source": [
    "b64_encr = \"Ae0ODdiaA4oGWm4ezss/6UBueNBDU/yZ7VC2/CUQLTBQkzKti2G4q+Z1Zr9N3L7qgN96C0f1q9oSiai8JUmaf5fpcuSqWs7BMJaaYTHPnyHYWUviN7gBAzPXiyPjWQcNZjcxQSvZrhUYOh+7PlIFtGqJGPELgnmZmXZNn24QaEcs\"\n",
    "\n",
    "byte_encr = base64.b64decode(b64_encr)\n",
    "int_encr = int.from_bytes(byte_encr, 'big')\n",
    "print(int_encr)\n",
    "\n",
    "int_plain = rsa1.decrypt(int_encr)\n",
    "str_plain = int_plain.to_bytes(150, byteorder='big')\n",
    "print(f'Plain text: {str_plain}')"
   ]
  },
  {
   "cell_type": "markdown",
   "id": "d2726315-b5d6-4b58-b000-c9c67ef5eb40",
   "metadata": {},
   "source": [
    "The resulting encoded string, in base64 encoding, has then been converted into an integer to be decrypted by `.decrypt()` custom function.<br>\n",
    "The integer plaintext is then converted in a bytes array and then printed.\n",
    "<br><br>\n",
    "The printed string shows non-printable characters and, at the end, the given plaintext inserted in the website.<br>\n",
    "Probably other chars encodes informations like encryption method used, and sould be non-encrypted. I was not able to get something useful."
   ]
  },
  {
   "cell_type": "code",
   "execution_count": 34,
   "id": "dce14085-cef1-4295-add4-a3f260573309",
   "metadata": {},
   "outputs": [
    {
     "name": "stdout",
     "output_type": "stream",
     "text": [
      "Encoded message: NjgxMTMxNjc4NzczNzU0NTA5NzExNzczNjg5MDMwNzI2ODA3MTE3OTgzMTI1MzQzMTk2MDM0MDY1MDAwMTMzODcyNjcwMTAzNDYzMDA2ODk5MTU2NTg3OTQxNzc2MjUwNjEzNzM5OTI2NDg2Njg4NzQ2OTQwMjg2Mjk0MzgxMzM0OTAyNzU1Mzk0NjYzNzU1NzkwOTgxNDQxNTk5MjQ0NTY0NzM3MDA2Mzc4NTcwMzk2OTY0NjI4OTI4MjA4NTk2NjE1NzA5OTM0MTIzMTQ0NTU1ODg0MjgwMjI5MTE4MTcxNjQ4MjQyMjI5MjgwODU2NjgxODE4OTU5MDk0OTA1NzA3NTAwNTg3NzE2MDA2MDE5NzU0NTQ1MjU1NDE5NjUwNzc4MTM0NzkzMTg3MTU4MjM5NDI3\n",
      "\n",
      "Key: MTYzODIyOTYzMTE0Njk5MzY2NjE3NDU3ODY5MTI4NzY5MDAzNTYwNDYxNzQ5Mzk2MzEwNjY1NDI3NDQ1MTExODcwOTYzMTYwMzYyNzY4NzMwMzEwMzQwODgxNjI0MzI5NzU2ODY4Mzc0OTg1MTUyMzcyOTMwOTM0MTAwODcyMzcwMjE0MjIyNjU3NTc2MjM4Mzc1MTAyNjgzNjE4MzU4ODgwNTI1MTM1NjU1NjQ0NjA0Njg4NjQzNjg3NDUwNDcxNjQ4NzM3NDI1MDAxMTkyMzI4NzA1NjQwOTEwMTU3MjUxMzY4NjgyOTY2MjQyNjEzMTgwMDU5MTI0ODE2MjA3MjUyODc1ODk2NjU1NjM4MDkxMDQwODU2NzU4ODAxNDI2MDcwNzc5MzczMzMwMTg1ODYxNTc5\n"
     ]
    }
   ],
   "source": [
    "encodedBytes = base64.b64encode(f'{encr}'.encode(\"utf-8\"))\n",
    "encodedStr = str(encodedBytes, \"utf-8\")\n",
    "\n",
    "priKBytes = base64.b64encode(f'{d}'.encode(\"utf-8\"))\n",
    "priKStr = str(priKBytes, \"utf-8\")\n",
    "\n",
    "print(f'Encoded message: {encodedStr}\\n\\nKey: {priKStr}')"
   ]
  },
  {
   "cell_type": "markdown",
   "id": "8765aa89-e349-4319-b9e6-261dff488146",
   "metadata": {},
   "source": [
    "# Conclusion\n",
    "The implementation works straight forward with a integer as plaintext. All the algorithms have been implemented as seen during lectures, with no particular optimizations.<br>\n",
    "Some improvements can be done in relation to the choice of `e`. In particular, the RSA documentation specify that usually this number is chosen with small \\#1 in his binary rapresentation. This allows to speed up the exponentiation process thanks to the algorithm discussed in the lecture.\n",
    "<br><br>\n",
    "I faced many difficulties in the implementation with string as plaintext, in particular translating text into an integer value to be digested by the algorithm.<br>\n",
    "Tests with public services for encryption/decryption with RSA are difficult due to the same problem, aggravated by the fact that keys and cipher are encoded with base64 encoding system and other standards. It results in many tests on how to convert string to bytes and then to integer, in a way that online tools are able to work with.\n",
    "<br><br>\n",
    "Initial problems related to finding prime numbers are due to the fact that exponentiation with $x^{e} \\bmod n$ is very low in performance wrt `pow(x,e,n)` function. Computation with $x^{e} \\bmod n$ was very slow also with relatively small numbers with 6/7 digits. The exponentiation could also have been replaced with the iteratie method exposed in the lecture."
   ]
  },
  {
   "cell_type": "code",
   "execution_count": 60,
   "id": "0ce68c04-e347-47b5-8936-39fcd861b6e6",
   "metadata": {},
   "outputs": [
    {
     "name": "stdout",
     "output_type": "stream",
     "text": [
      "172 ms ± 2.06 ms per loop (mean ± std. dev. of 7 runs, 1 loop each)\n"
     ]
    }
   ],
   "source": [
    "%timeit -n1 tt = (123**254081) % 237137"
   ]
  },
  {
   "cell_type": "code",
   "execution_count": 59,
   "id": "41b4fdba-8a88-4e0c-a2d6-9d43796e5d3c",
   "metadata": {},
   "outputs": [
    {
     "name": "stdout",
     "output_type": "stream",
     "text": [
      "10.2 µs ± 3.26 µs per loop (mean ± std. dev. of 7 runs, 1 loop each)\n"
     ]
    }
   ],
   "source": [
    "%timeit -n1 tt = pow(123, 254081, 237137)"
   ]
  },
  {
   "cell_type": "code",
   "execution_count": 61,
   "id": "df7a03a6-49eb-4a1e-ad88-d997945304c6",
   "metadata": {},
   "outputs": [
    {
     "name": "stdout",
     "output_type": "stream",
     "text": [
      "828 µs ± 1.07 µs per loop (mean ± std. dev. of 7 runs, 1000 loops each)\n"
     ]
    }
   ],
   "source": [
    "p = 123**254081\n",
    "%timeit p % 237137"
   ]
  }
 ],
 "metadata": {
  "kernelspec": {
   "display_name": "Python 3",
   "language": "python",
   "name": "python3"
  },
  "language_info": {
   "codemirror_mode": {
    "name": "ipython",
    "version": 3
   },
   "file_extension": ".py",
   "mimetype": "text/x-python",
   "name": "python",
   "nbconvert_exporter": "python",
   "pygments_lexer": "ipython3",
   "version": "3.9.5"
  }
 },
 "nbformat": 4,
 "nbformat_minor": 5
}
